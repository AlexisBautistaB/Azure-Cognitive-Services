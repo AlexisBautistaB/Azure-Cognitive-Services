{
  "nbformat": 4,
  "nbformat_minor": 0,
  "metadata": {
    "colab": {
      "name": "Consumo de Servicios Cognitivos(Computer Vision).ipynb",
      "provenance": [],
      "collapsed_sections": [],
      "authorship_tag": "ABX9TyOrWq26I7nzZjyBziAmTIPq",
      "include_colab_link": true
    },
    "kernelspec": {
      "name": "python3",
      "display_name": "Python 3"
    }
  },
  "cells": [
    {
      "cell_type": "markdown",
      "metadata": {
        "id": "view-in-github",
        "colab_type": "text"
      },
      "source": [
        "<a href=\"https://colab.research.google.com/github/AlexisBautistaB/Azure-Cognitive-Services/blob/main/Cuadernos/Consumo_de_Servicios_Cognitivos(Computer_Vision).ipynb\" target=\"_parent\"><img src=\"https://colab.research.google.com/assets/colab-badge.svg\" alt=\"Open In Colab\"/></a>"
      ]
    },
    {
      "cell_type": "markdown",
      "metadata": {
        "id": "36LL_MFpOWVI"
      },
      "source": [
        "Instalacón del paquete(libreria) para consumir los servicios cognitivos de vision"
      ]
    },
    {
      "cell_type": "code",
      "metadata": {
        "id": "MH2KIP9TOYo8",
        "outputId": "abb4f46d-45be-48dc-bd98-e901de3926a8",
        "colab": {
          "base_uri": "https://localhost:8080/",
          "height": 377
        }
      },
      "source": [
        "!pip install --upgrade azure-cognitiveservices-vision-computervision\n"
      ],
      "execution_count": 4,
      "outputs": [
        {
          "output_type": "stream",
          "text": [
            "Collecting azure-cognitiveservices-vision-computervision\n",
            "  Downloading https://files.pythonhosted.org/packages/f2/de/03ddaffabd541829394fb6ee4615f642ed1a14438b4543a01ad58f7d222e/azure_cognitiveservices_vision_computervision-0.7.0-py2.py3-none-any.whl\n",
            "Collecting msrest>=0.5.0\n",
            "\u001b[?25l  Downloading https://files.pythonhosted.org/packages/fa/f5/9e315fe8cb985b0ce052b34bcb767883dc739f46fadb62f05a7e6d6eedbe/msrest-0.6.19-py2.py3-none-any.whl (84kB)\n",
            "\u001b[K     |████████████████████████████████| 92kB 4.0MB/s \n",
            "\u001b[?25hCollecting azure-common~=1.1\n",
            "  Downloading https://files.pythonhosted.org/packages/e5/4d/d000fc3c5af601d00d55750b71da5c231fcb128f42ac95b208ed1091c2c1/azure_common-1.1.25-py2.py3-none-any.whl\n",
            "Requirement already satisfied, skipping upgrade: requests-oauthlib>=0.5.0 in /usr/local/lib/python3.6/dist-packages (from msrest>=0.5.0->azure-cognitiveservices-vision-computervision) (1.3.0)\n",
            "Requirement already satisfied, skipping upgrade: requests~=2.16 in /usr/local/lib/python3.6/dist-packages (from msrest>=0.5.0->azure-cognitiveservices-vision-computervision) (2.23.0)\n",
            "Requirement already satisfied, skipping upgrade: certifi>=2017.4.17 in /usr/local/lib/python3.6/dist-packages (from msrest>=0.5.0->azure-cognitiveservices-vision-computervision) (2020.6.20)\n",
            "Collecting isodate>=0.6.0\n",
            "\u001b[?25l  Downloading https://files.pythonhosted.org/packages/9b/9f/b36f7774ff5ea8e428fdcfc4bb332c39ee5b9362ddd3d40d9516a55221b2/isodate-0.6.0-py2.py3-none-any.whl (45kB)\n",
            "\u001b[K     |████████████████████████████████| 51kB 6.4MB/s \n",
            "\u001b[?25hRequirement already satisfied, skipping upgrade: oauthlib>=3.0.0 in /usr/local/lib/python3.6/dist-packages (from requests-oauthlib>=0.5.0->msrest>=0.5.0->azure-cognitiveservices-vision-computervision) (3.1.0)\n",
            "Requirement already satisfied, skipping upgrade: urllib3!=1.25.0,!=1.25.1,<1.26,>=1.21.1 in /usr/local/lib/python3.6/dist-packages (from requests~=2.16->msrest>=0.5.0->azure-cognitiveservices-vision-computervision) (1.24.3)\n",
            "Requirement already satisfied, skipping upgrade: chardet<4,>=3.0.2 in /usr/local/lib/python3.6/dist-packages (from requests~=2.16->msrest>=0.5.0->azure-cognitiveservices-vision-computervision) (3.0.4)\n",
            "Requirement already satisfied, skipping upgrade: idna<3,>=2.5 in /usr/local/lib/python3.6/dist-packages (from requests~=2.16->msrest>=0.5.0->azure-cognitiveservices-vision-computervision) (2.10)\n",
            "Requirement already satisfied, skipping upgrade: six in /usr/local/lib/python3.6/dist-packages (from isodate>=0.6.0->msrest>=0.5.0->azure-cognitiveservices-vision-computervision) (1.15.0)\n",
            "Installing collected packages: isodate, msrest, azure-common, azure-cognitiveservices-vision-computervision\n",
            "Successfully installed azure-cognitiveservices-vision-computervision-0.7.0 azure-common-1.1.25 isodate-0.6.0 msrest-0.6.19\n"
          ],
          "name": "stdout"
        }
      ]
    },
    {
      "cell_type": "markdown",
      "metadata": {
        "id": "hwC0tgLBSh7g"
      },
      "source": [
        "Importamos las bibliotecas de funciones a utilizar"
      ]
    },
    {
      "cell_type": "code",
      "metadata": {
        "id": "YEjCgW8GS_yP"
      },
      "source": [
        "#Funcionalidades para conectarnos con cognite services y validar nuestro acceso\n",
        "from azure.cognitiveservices.vision.computervision import ComputerVisionClient\n",
        "from azure.cognitiveservices.vision.computervision.models import OperationStatusCodes\n",
        "from azure.cognitiveservices.vision.computervision.models import VisualFeatureTypes\n",
        "from msrest.authentication import CognitiveServicesCredentials\n",
        "\n",
        "from array import array\n",
        "import os\n",
        "from PIL import Image\n",
        "import sys\n",
        "import time"
      ],
      "execution_count": 12,
      "outputs": []
    },
    {
      "cell_type": "markdown",
      "metadata": {
        "id": "lrRv2jueUJ_G"
      },
      "source": [
        "Lo primero que tenemos que hacer es autenticar nuestro acceso para poder consumir nuestro recurso.\n",
        "\n",
        "computervision_client = ComputerVisionClient(endpoint, CognitiveServicesCredentials(subscription_key))"
      ]
    },
    {
      "cell_type": "code",
      "metadata": {
        "id": "LrifyFviT6dU"
      },
      "source": [
        "endpoint = \"https://innovaia-alexisbb.cognitiveservices.azure.com/\"\n",
        "subscription_key = \"1435d4ed8a754f8e84784f132479fa27\"\n",
        "computervision_client = ComputerVisionClient(endpoint, CognitiveServicesCredentials(subscription_key))"
      ],
      "execution_count": 13,
      "outputs": []
    },
    {
      "cell_type": "markdown",
      "metadata": {
        "id": "VufauwadVIcF"
      },
      "source": [
        "Procedemos a consumir el recurso"
      ]
    },
    {
      "cell_type": "code",
      "metadata": {
        "id": "bzbXuhm_VGog"
      },
      "source": [
        "remote_image_url = \"https://scontent.fmex19-1.fna.fbcdn.net/v/t1.0-9/121973976_102700074973670_1052922876311715605_o.jpg?_nc_cat=100&ccb=2&_nc_sid=8bfeb9&_nc_ohc=v6QWa6K2kFIAX-ICi8j&_nc_ht=scontent.fmex19-1.fna&oh=2d0cd6c3bd4b9242a0bf3b899bf2b460&oe=5FB71570\""
      ],
      "execution_count": 29,
      "outputs": []
    },
    {
      "cell_type": "code",
      "metadata": {
        "id": "fVLV1EHpWG1W",
        "outputId": "1f45169d-543e-4695-ec6d-cb95d81ba055",
        "colab": {
          "base_uri": "https://localhost:8080/",
          "height": 68
        }
      },
      "source": [
        "'''\n",
        "Descripción de los contenidos de una imagen - remote\n",
        "This example describes the contents of an image with the confidence score.\n",
        "'''\n",
        "print(\"===== Describe una imagen - remota =====\")\n",
        "# Call API\n",
        "description_results = computervision_client.describe_image(remote_image_url )\n",
        "\n",
        "# Get the captions (descriptions) from the response, with confidence level\n",
        "print(\"Descripción de una imagen remota: \")\n",
        "if (len(description_results.captions) == 0):\n",
        "    print(\"No hay descripción.\")\n",
        "else:\n",
        "    for caption in description_results.captions:\n",
        "        print(\"'{}' con certeza del {:.2f}%\".format(caption.text, caption.confidence * 100))"
      ],
      "execution_count": 30,
      "outputs": [
        {
          "output_type": "stream",
          "text": [
            "===== Describe una imagen - remota =====\n",
            "Descripción de una imagen remota: \n",
            "'text' con certeza del 56.33%\n"
          ],
          "name": "stdout"
        }
      ]
    },
    {
      "cell_type": "code",
      "metadata": {
        "id": "_mx-oDMcY5-i",
        "outputId": "5c681282-5a9e-46d5-8f7b-887c4a677c85",
        "colab": {
          "base_uri": "https://localhost:8080/",
          "height": 102
        }
      },
      "source": [
        "from pprint import pprint\n",
        "pprint(description_results.as_dict())"
      ],
      "execution_count": 18,
      "outputs": [
        {
          "output_type": "stream",
          "text": [
            "{'captions': [{'confidence': 0.31104210019111633,\n",
            "               'text': 'a person teaching a class'}],\n",
            " 'metadata': {'format': 'Jpeg', 'height': 177, 'width': 284},\n",
            " 'request_id': '659ccf35-bb01-44cf-a3c1-4de01a622d77',\n",
            " 'tags': ['crowd']}\n"
          ],
          "name": "stdout"
        }
      ]
    },
    {
      "cell_type": "markdown",
      "metadata": {
        "id": "9YWnF99Ma6vv"
      },
      "source": [
        "Descripción de una imagen de otra forma"
      ]
    },
    {
      "cell_type": "code",
      "metadata": {
        "id": "S-JJQtof_axl",
        "outputId": "b27c5f2e-6359-47a5-b1d6-bf64ea4470f8",
        "colab": {
          "base_uri": "https://localhost:8080/",
          "height": 68
        }
      },
      "source": [
        "print(\"Descripción de la imagen: \")\n",
        "if len(description_results.as_dict()['captions']) > 0:\n",
        "    print(\"Encontré algo:\")\n",
        "    for elemento in description_results.as_dict()['captions']:\n",
        "        print(elemento[\"text\"])\n",
        "else:\n",
        "    print(\"No encontré nada.\")"
      ],
      "execution_count": 23,
      "outputs": [
        {
          "output_type": "stream",
          "text": [
            "Descripción de la imagen: \n",
            "Encontré algo:\n",
            "a woman with long hair\n"
          ],
          "name": "stdout"
        }
      ]
    },
    {
      "cell_type": "code",
      "metadata": {
        "id": "-_xj3r15YK7z",
        "outputId": "390c88a0-7a6b-4947-eccf-b0e0a2a68aec",
        "colab": {
          "base_uri": "https://localhost:8080/",
          "height": 68
        }
      },
      "source": [
        "'''\n",
        "Categoriza una imagen - remota\n",
        "This example extracts (general) categories from a remote image with a confidence score.\n",
        "'''\n",
        "print(\"===== Categorización una imagen - remota =====\")\n",
        "# Seleccione las características visuales que desee.\n",
        "remote_image_features = [\"categories\"]\n",
        "# Call API with URL and features\n",
        "categorize_results_remote = computervision_client.analyze_image(remote_image_url , remote_image_features)\n",
        "\n",
        "# Imprima resultados con puntuación de confianza\n",
        "print(\"Categorias de la imagen remota: \")\n",
        "if (len(categorize_results_remote.categories) == 0):\n",
        "    print(\"No hay categorias identificadas.\")\n",
        "else:\n",
        "    for category in categorize_results_remote.categories:\n",
        "        print(\"'{}' con certeza del {:.2f}%\".format(category.name, category.score * 100))"
      ],
      "execution_count": 24,
      "outputs": [
        {
          "output_type": "stream",
          "text": [
            "===== Categorización una imagen - remota =====\n",
            "Categorias de la imagen remota: \n",
            "'people_portrait' con certeza del 71.09%\n"
          ],
          "name": "stdout"
        }
      ]
    }
  ]
}